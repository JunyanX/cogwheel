{
 "cells": [
  {
   "cell_type": "code",
   "execution_count": 5,
   "id": "c5df9678-ef6b-44d7-b465-b40b2a8deba2",
   "metadata": {
    "editable": true,
    "slideshow": {
     "slide_type": ""
    },
    "tags": []
   },
   "outputs": [],
   "source": [
    "import warnings\n",
    "warnings.filterwarnings(\"ignore\", \"Wswiglal-redir-stdio\")\n",
    "import lalsimulation\n",
    "import lal\n",
    "import numpy as np\n",
    "\n",
    "import matplotlib.pyplot as plt\n",
    "from scipy.interpolate import interp1d\n",
    "\n",
    "\n",
    "from pycbc.types import TimeSeries\n",
    "\n",
    "import sys\n",
    "import os\n",
    "\n",
    "sys.path.append('/Users/jackson/Desktop/ucsb/cogwheel/my_cogwheel/cogwheel')\n",
    "\n",
    "import waveform\n",
    "import gw_utils"
   ]
  },
  {
   "cell_type": "code",
   "execution_count": 2,
   "id": "cca4f741-48b4-4c67-bdc9-04022f9a0cbd",
   "metadata": {
    "editable": true,
    "slideshow": {
     "slide_type": ""
    },
    "tags": []
   },
   "outputs": [],
   "source": [
    "import pycbc\n",
    "import pycbc.waveform as waveform\n",
    "from pycbc.waveform import get_fd_waveform\n",
    "from pycbc.detector import Detector\n",
    "\n",
    "\n",
    "# Define parameters for the waveform\n",
    "params = {\n",
    "    'mass1': 1.4,                   \n",
    "    'mass2': 1.4,                   \n",
    "    'spin1z': 0.0,                 \n",
    "    'spin2z': 0.0,                \n",
    "    'distance': 400,               \n",
    "    'inclination': 0.0,            \n",
    "    'f_ref': 0,                    \n",
    "    'f_lower': 2,                  \n",
    "    'f_final': 32,                 \n",
    "    'approximant': 'IMRPhenomD' \n",
    "}\n",
    "\n",
    "ra = 0  \n",
    "dec = 0  \n",
    "polarization = 0  \n",
    "geocent_time = 1234567890\n",
    "detector = Detector('H1')\n",
    "\n",
    "hp_time_windowed, hc_time_windowed = waveform.get_td_waveform(delta_t=1/64, **params)\n",
    "\n",
    "# Project the strain onto the detector\n",
    "projected_strain_pycbc_const = detector.project_wave(hp_time_windowed, hc_time_windowed, ra, dec, polarization, method='constant')\n",
    "projected_strain_pycbc_vp = detector.project_wave(hp_time_windowed, hc_time_windowed, ra, dec, polarization, method='vary_polarization')\n",
    "\n",
    "# Convert the projected strain back to the frequency domain\n",
    "projected_strain_pycbc_const_fd = projected_strain_pycbc_const.to_frequencyseries()\n",
    "projected_strain_pycbc_vp_fd = projected_strain_pycbc_vp.to_frequencyseries()\n",
    "\n",
    "frequencies = projected_strain_pycbc_const_fd.get_sample_frequencies().data\n",
    "\n"
   ]
  },
  {
   "cell_type": "code",
   "execution_count": 3,
   "id": "2ff5c5d7-12f4-4adf-9379-4ff3b483b959",
   "metadata": {},
   "outputs": [
    {
     "data": {
      "text/plain": [
       "[<matplotlib.lines.Line2D at 0x1648ea220>]"
      ]
     },
     "execution_count": 3,
     "metadata": {},
     "output_type": "execute_result"
    },
    {
     "data": {
      "image/png": "[encoded data removed]",
      "text/plain": [
       "<Figure size 640x480 with 1 Axes>"
      ]
     },
     "metadata": {},
     "output_type": "display_data"
    }
   ],
   "source": [
    "plt.plot(frequencies, np.abs(projected_strain_pycbc_vp_fd))"
   ]
  },
  {
   "cell_type": "code",
   "execution_count": 4,
   "id": "54414e77-8745-49c7-b600-4fbeb3d2c008",
   "metadata": {},
   "outputs": [],
   "source": [
    "from gw_utils import fplus_fcross\n",
    "from waveform import WaveformGenerator\n",
    "\n",
    "detector_names = ['H']\n",
    "tgps = 1234567890\n",
    "tcoarse = 0.01\n",
    "approximant = 'IMRPhenomD'\n",
    "harmonic_modes = [(2, 2)]\n",
    "disable_precession = False\n",
    "n_cached_waveforms = 1\n",
    "lalsimulation_commands = ()\n",
    "\n",
    "wg = WaveformGenerator(detector_names, tgps, tcoarse, approximant,\n",
    "                                       harmonic_modes=harmonic_modes,\n",
    "                                       disable_precession=disable_precession,\n",
    "                                       n_cached_waveforms=n_cached_waveforms,\n",
    "                                       lalsimulation_commands=lalsimulation_commands)\n"
   ]
  },
  {
   "cell_type": "code",
   "execution_count": 5,
   "id": "7e5ed0cf-e600-4289-accc-93428ea43b0b",
   "metadata": {},
   "outputs": [],
   "source": [
    "params_dic = {\n",
    "    'ra': 0,\n",
    "    'dec': 0,\n",
    "    't_geocenter': 1234567890,\n",
    "    'psi': 0,\n",
    "    'phi_ref': 0.0,                 # Phase at reference frequency (radians)\n",
    "    'm1': 1.4,                    # Mass of the first object (in Msun)\n",
    "    'm2': 1.4,                    # Mass of the second object (in Msun)\n",
    "    'l1': 0,\n",
    "    'l2': 0,\n",
    "    's1x_n': 0.0,                     # Spin component of the first object (x-axis)\n",
    "    's1y_n': 0.0,                     # Spin component of the first object (y-axis)\n",
    "    's1z': 0.0,                     # Spin component of the first object (z-axis)\n",
    "    's2x_n': 0.0,                     # Spin component of the second object (x-axis)\n",
    "    's2y_n': 0.0,                     # Spin component of the second object (y-axis)\n",
    "    's2z': 0.0,                     # Spin component of the second object (z-axis)\n",
    "    'f_ref': 0,                 # Reference frequency (Hz)\n",
    "    'd_luminosity': 400,            # Luminosity distance (meters)\n",
    "    'iota': 0.0,                    # Inclination angle (radians)\n",
    "    'lal_dic': lal.CreateDict(),    # LAL dictionary for additional parameters\n",
    "}\n",
    "\n",
    "f = np.linspace(0, 32, 10000)\n",
    "hp_cogwheel, hc_cogwheel = wg.get_hplus_hcross(f, params_dic, by_m = False)\n",
    "\n",
    "mask = np.logical_and(f>=2, f <= 31)"
   ]
  },
  {
   "cell_type": "code",
   "execution_count": 6,
   "id": "7882ddce-b755-48ff-951a-8f467d12c35e",
   "metadata": {
    "editable": true,
    "scrolled": true,
    "slideshow": {
     "slide_type": ""
    },
    "tags": []
   },
   "outputs": [
    {
     "name": "stdout",
     "output_type": "stream",
     "text": [
      " "
     ]
    },
    {
     "data": {
      "text/plain": [
       "         84 function calls in 0.006 seconds\n",
       "\n",
       "   Ordered by: internal time\n",
       "\n",
       "   ncalls  tottime  percall  cumtime  percall filename:lineno(function)\n",
       "        1    0.001    0.001    0.001    0.001 {built-in method lal._lal.GreenwichMeanSiderealTime}\n",
       "        3    0.001    0.000    0.001    0.000 {built-in method numpy.core._multiarray_umath.c_einsum}\n",
       "        1    0.001    0.001    0.001    0.001 {built-in method lal._lal.ComputeDetAMResponse}\n",
       "        1    0.001    0.001    0.002    0.002 waveform.py:642(_get_shifts)\n",
       "        2    0.001    0.000    0.001    0.000 {method 'reduce' of 'numpy.ufunc' objects}\n",
       "        2    0.001    0.000    0.001    0.000 numeric.py:2378(array_equal)\n",
       "        1    0.000    0.000    0.001    0.001 waveform.py:676(get_hplus_hcross)\n",
       "        1    0.000    0.000    0.001    0.001 gw_utils.py:77(get_geocenter_delays)\n",
       "        1    0.000    0.000    0.003    0.003 waveform.py:605(get_hplus_hcross_at_detectors)\n",
       "        1    0.000    0.000    0.006    0.006 {built-in method builtins.exec}\n",
       "        1    0.000    0.000    0.000    0.000 gw_utils.py:92(tgps_to_gmst)\n",
       "        3    0.000    0.000    0.000    0.000 {built-in method numpy.array}\n",
       "        1    0.000    0.000    0.001    0.001 waveform.py:755(_matching_cache)\n",
       "        1    0.000    0.000    0.000    0.000 gw_utils.py:82(<listcomp>)\n",
       "        1    0.000    0.000    0.000    0.000 linalg.py:2383(norm)\n",
       "        1    0.000    0.000    0.002    0.002 gw_utils.py:43(fplus_fcross)\n",
       "        1    0.000    0.000    0.000    0.000 fromnumeric.py:53(_wrapfunc)\n",
       "        3    0.000    0.000    0.001    0.000 einsumfunc.py:1009(einsum)\n",
       "        1    0.000    0.000    0.006    0.006 waveform.py:527(get_strain_at_detectors)\n",
       "        1    0.000    0.000    0.000    0.000 {method 'dot' of 'numpy.ndarray' objects}\n",
       "        7    0.000    0.000    0.000    0.000 {built-in method numpy.asarray}\n",
       "        1    0.000    0.000    0.001    0.001 gw_utils.py:51(<listcomp>)\n",
       "        1    0.000    0.000    0.001    0.001 fromnumeric.py:2177(sum)\n",
       "        1    0.000    0.000    0.000    0.000 fromnumeric.py:40(_wrapit)\n",
       "        1    0.000    0.000    0.001    0.001 fromnumeric.py:71(_wrapreduction)\n",
       "        1    0.000    0.000    0.000    0.000 waveform.py:624(<dictcomp>)\n",
       "        1    0.000    0.000    0.006    0.006 <string>:1(<module>)\n",
       "       15    0.000    0.000    0.000    0.000 einsumfunc.py:1001(_einsum_dispatcher)\n",
       "        1    0.000    0.000    0.000    0.000 {built-in method numpy.fromiter}\n",
       "        1    0.000    0.000    0.000    0.000 _methods.py:61(_all)\n",
       "        1    0.000    0.000    0.000    0.000 {method 'ravel' of 'numpy.ndarray' objects}\n",
       "        1    0.000    0.000    0.000    0.000 waveform.py:484(m_arr)\n",
       "        1    0.000    0.000    0.000    0.000 {method 'all' of 'numpy.ndarray' objects}\n",
       "        1    0.000    0.000    0.000    0.000 {method 'reshape' of 'numpy.ndarray' objects}\n",
       "        1    0.000    0.000    0.000    0.000 skyloc_angles.py:146(ra_to_lon)\n",
       "        1    0.000    0.000    0.000    0.000 fromnumeric.py:588(transpose)\n",
       "        2    0.000    0.000    0.000    0.000 {built-in method builtins.getattr}\n",
       "        1    0.000    0.000    0.000    0.000 fromnumeric.py:72(<dictcomp>)\n",
       "        1    0.000    0.000    0.000    0.000 waveform.py:699(<listcomp>)\n",
       "        1    0.000    0.000    0.000    0.000 {method 'transpose' of 'numpy.ndarray' objects}\n",
       "        1    0.000    0.000    0.000    0.000 linalg.py:140(isComplexType)\n",
       "        2    0.000    0.000    0.000    0.000 numeric.py:2374(_array_equal_dispatcher)\n",
       "        1    0.000    0.000    0.000    0.000 waveform.py:505(lalsimulation_commands)\n",
       "        1    0.000    0.000    0.000    0.000 {built-in method builtins.isinstance}\n",
       "        1    0.000    0.000    0.000    0.000 waveform.py:433(approximant)\n",
       "        1    0.000    0.000    0.000    0.000 {method 'cache_clear' of 'functools._lru_cache_wrapper' objects}\n",
       "        2    0.000    0.000    0.000    0.000 {built-in method builtins.issubclass}\n",
       "        1    0.000    0.000    0.000    0.000 {method 'disable' of '_lsprof.Profiler' objects}\n",
       "        1    0.000    0.000    0.000    0.000 fromnumeric.py:584(_transpose_dispatcher)\n",
       "        1    0.000    0.000    0.000    0.000 fromnumeric.py:2172(_sum_dispatcher)\n",
       "        1    0.000    0.000    0.000    0.000 linalg.py:2379(_norm_dispatcher)\n",
       "        1    0.000    0.000    0.000    0.000 {built-in method builtins.len}\n",
       "        1    0.000    0.000    0.000    0.000 {method 'items' of 'dict' objects}"
      ]
     },
     "metadata": {},
     "output_type": "display_data"
    }
   ],
   "source": [
    "%%prun\n",
    "strain_0 = wg.get_strain_at_detectors(f, params_dic)"
   ]
  },
  {
   "cell_type": "code",
   "execution_count": 17,
   "id": "0bcde54e-d59c-4f00-9611-e3f6b5d8edca",
   "metadata": {
    "scrolled": true
   },
   "outputs": [
    {
     "name": "stdout",
     "output_type": "stream",
     "text": [
      " "
     ]
    },
    {
     "data": {
      "text/plain": [
       "         105 function calls in 0.012 seconds\n",
       "\n",
       "   Ordered by: internal time\n",
       "\n",
       "   ncalls  tottime  percall  cumtime  percall filename:lineno(function)\n",
       "        1    0.002    0.002    0.002    0.002 {built-in method lal._lal.CreateDict}\n",
       "        1    0.002    0.002    0.002    0.002 {built-in method lalsimulation._lalsimulation.SimInspiralWaveformParamsInsertTidalLambda1}\n",
       "        1    0.001    0.001    0.001    0.001 {built-in method lalsimulation._lalsimulation.SimInspiralChooseFDWaveformSequence}\n",
       "        1    0.001    0.001    0.006    0.006 waveform.py:34(compute_hplus_hcross)\n",
       "        1    0.001    0.001    0.007    0.007 waveform.py:148(<dictcomp>)\n",
       "        1    0.001    0.001    0.012    0.012 <string>:1(<module>)\n",
       "        3    0.001    0.000    0.001    0.000 {method 'reduce' of 'numpy.ufunc' objects}\n",
       "        1    0.000    0.000    0.000    0.000 {built-in method lalsimulation._lalsimulation.SimInspiralModeArrayActivateMode}\n",
       "        1    0.000    0.000    0.011    0.011 waveform.py:605(get_hplus_hcross_at_detectors)\n",
       "        1    0.000    0.000    0.000    0.000 {built-in method lalsimulation._lalsimulation.SimInspiralWaveformParamsInsertTidalLambda2}\n",
       "        1    0.000    0.000    0.000    0.000 {built-in method lalsimulation._lalsimulation.SimInspiralWaveformParamsInsertModeArray}\n",
       "        1    0.000    0.000    0.000    0.000 {built-in method lalsimulation._lalsimulation.SimInspiralCreateModeArray}\n",
       "        2    0.000    0.000    0.000    0.000 {built-in method numpy.core._multiarray_umath.c_einsum}\n",
       "        1    0.000    0.000    0.000    0.000 {built-in method lalsimulation._lalsimulation.GetApproximantFromString}\n",
       "        1    0.000    0.000    0.000    0.000 {built-in method lal._lal.CreateREAL8Sequence}\n",
       "        2    0.000    0.000    0.000    0.000 {method 'dot' of 'numpy.ndarray' objects}\n",
       "        1    0.000    0.000    0.010    0.010 waveform.py:676(get_hplus_hcross)\n",
       "        1    0.000    0.000    0.012    0.012 {built-in method builtins.exec}\n",
       "        2    0.000    0.000    0.000    0.000 numeric.py:2378(array_equal)\n",
       "        1    0.000    0.000    0.000    0.000 shape_base.py:372(stack)\n",
       "        3    0.000    0.000    0.000    0.000 {built-in method numpy.array}\n",
       "        1    0.000    0.000    0.000    0.000 waveform.py:755(_matching_cache)\n",
       "        1    0.000    0.000    0.000    0.000 waveform.py:168(inplane_spins_xy_n_to_xy)\n",
       "        1    0.000    0.000    0.000    0.000 linalg.py:2383(norm)\n",
       "        1    0.000    0.000    0.000    0.000 {built-in method numpy.fromiter}\n",
       "        2    0.000    0.000    0.001    0.000 fromnumeric.py:71(_wrapreduction)\n",
       "        1    0.000    0.000    0.000    0.000 waveform.py:624(<dictcomp>)\n",
       "        2    0.000    0.000    0.001    0.000 fromnumeric.py:2177(sum)\n",
       "        1    0.000    0.000    0.011    0.011 waveform.py:527(get_strain_at_detectors)\n",
       "        1    0.000    0.000    0.002    0.002 waveform.py:748(create_lal_dict)\n",
       "        1    0.000    0.000    0.001    0.001 waveform.py:724(<listcomp>)\n",
       "        1    0.000    0.000    0.007    0.007 waveform.py:117(compute_hplus_hcross_by_mode)\n",
       "        1    0.000    0.000    0.000    0.000 {method 'ravel' of 'numpy.ndarray' objects}\n",
       "        2    0.000    0.000    0.000    0.000 einsumfunc.py:1009(einsum)\n",
       "        1    0.000    0.000    0.000    0.000 shape_base.py:207(_arrays_for_stack_dispatcher)\n",
       "        1    0.000    0.000    0.000    0.000 waveform.py:484(m_arr)\n",
       "        6    0.000    0.000    0.000    0.000 {built-in method numpy.asarray}\n",
       "        1    0.000    0.000    0.000    0.000 shape_base.py:443(<listcomp>)\n",
       "        4    0.000    0.000    0.000    0.000 waveform.py:433(approximant)\n",
       "        2    0.000    0.000    0.000    0.000 fromnumeric.py:72(<dictcomp>)\n",
       "        1    0.000    0.000    0.000    0.000 waveform.py:106(<listcomp>)\n",
       "        1    0.000    0.000    0.000    0.000 waveform.py:699(<listcomp>)\n",
       "        1    0.000    0.000    0.000    0.000 {method 'reshape' of 'numpy.ndarray' objects}\n",
       "        1    0.000    0.000    0.000    0.000 {method 'all' of 'numpy.ndarray' objects}\n",
       "        2    0.000    0.000    0.000    0.000 waveform.py:505(lalsimulation_commands)\n",
       "        1    0.000    0.000    0.000    0.000 shape_base.py:447(<setcomp>)\n",
       "       10    0.000    0.000    0.000    0.000 einsumfunc.py:1001(_einsum_dispatcher)\n",
       "        1    0.000    0.000    0.000    0.000 {built-in method builtins.getattr}\n",
       "        2    0.000    0.000    0.000    0.000 {built-in method builtins.isinstance}\n",
       "        1    0.000    0.000    0.000    0.000 linalg.py:140(isComplexType)\n",
       "        1    0.000    0.000    0.000    0.000 shape_base.py:362(_stack_dispatcher)\n",
       "        1    0.000    0.000    0.000    0.000 shape_base.py:455(<listcomp>)\n",
       "        2    0.000    0.000    0.000    0.000 {built-in method builtins.issubclass}\n",
       "        1    0.000    0.000    0.000    0.000 _methods.py:61(_all)\n",
       "        1    0.000    0.000    0.000    0.000 {built-in method builtins.hasattr}\n",
       "        1    0.000    0.000    0.000    0.000 {method 'pop' of 'list' objects}\n",
       "        3    0.000    0.000    0.000    0.000 {built-in method builtins.len}\n",
       "        1    0.000    0.000    0.000    0.000 waveform.py:458(harmonic_modes)\n",
       "        2    0.000    0.000    0.000    0.000 numeric.py:2374(_array_equal_dispatcher)\n",
       "        1    0.000    0.000    0.000    0.000 {built-in method numpy.core._multiarray_umath.normalize_axis_index}\n",
       "        2    0.000    0.000    0.000    0.000 fromnumeric.py:2172(_sum_dispatcher)\n",
       "        2    0.000    0.000    0.000    0.000 {built-in method numpy.asanyarray}\n",
       "        2    0.000    0.000    0.000    0.000 {method 'items' of 'dict' objects}\n",
       "        1    0.000    0.000    0.000    0.000 {method 'values' of 'dict' objects}\n",
       "        1    0.000    0.000    0.000    0.000 linalg.py:2379(_norm_dispatcher)\n",
       "        1    0.000    0.000    0.000    0.000 {method 'disable' of '_lsprof.Profiler' objects}\n",
       "        1    0.000    0.000    0.000    0.000 multiarray.py:153(concatenate)\n",
       "        1    0.000    0.000    0.000    0.000 {method 'append' of 'list' objects}"
      ]
     },
     "metadata": {},
     "output_type": "display_data"
    }
   ],
   "source": [
    "%%prun\n",
    "strain_1 = wg.get_strain_at_detectors(f[mask], params_dic, vary_polarization=True, doppler=False, use_cached=True)"
   ]
  },
  {
   "cell_type": "code",
   "execution_count": 12,
   "id": "73c7b57d-eb2c-4f73-ab16-630b75f01776",
   "metadata": {
    "scrolled": true
   },
   "outputs": [
    {
     "name": "stdout",
     "output_type": "stream",
     "text": [
      " "
     ]
    },
    {
     "data": {
      "text/plain": [
       "         61 function calls in 0.002 seconds\n",
       "\n",
       "   Ordered by: internal time\n",
       "\n",
       "   ncalls  tottime  percall  cumtime  percall filename:lineno(function)\n",
       "        1    0.001    0.001    0.002    0.002 <string>:1(<module>)\n",
       "        3    0.001    0.000    0.001    0.000 {method 'reduce' of 'numpy.ufunc' objects}\n",
       "        2    0.000    0.000    0.000    0.000 {built-in method numpy.core._multiarray_umath.c_einsum}\n",
       "        1    0.000    0.000    0.001    0.001 waveform.py:676(get_hplus_hcross)\n",
       "        1    0.000    0.000    0.002    0.002 {built-in method builtins.exec}\n",
       "        2    0.000    0.000    0.000    0.000 numeric.py:2378(array_equal)\n",
       "        1    0.000    0.000    0.000    0.000 waveform.py:755(_matching_cache)\n",
       "        1    0.000    0.000    0.000    0.000 linalg.py:2383(norm)\n",
       "        1    0.000    0.000    0.001    0.001 waveform.py:605(get_hplus_hcross_at_detectors)\n",
       "        1    0.000    0.000    0.000    0.000 {built-in method numpy.array}\n",
       "        1    0.000    0.000    0.000    0.000 {method 'dot' of 'numpy.ndarray' objects}\n",
       "        1    0.000    0.000    0.001    0.001 waveform.py:527(get_strain_at_detectors)\n",
       "        1    0.000    0.000    0.000    0.000 waveform.py:624(<dictcomp>)\n",
       "        1    0.000    0.000    0.000    0.000 fromnumeric.py:71(_wrapreduction)\n",
       "        1    0.000    0.000    0.001    0.001 fromnumeric.py:2177(sum)\n",
       "        2    0.000    0.000    0.000    0.000 {method 'all' of 'numpy.ndarray' objects}\n",
       "        2    0.000    0.000    0.000    0.000 _methods.py:61(_all)\n",
       "        1    0.000    0.000    0.000    0.000 {built-in method numpy.fromiter}\n",
       "        1    0.000    0.000    0.000    0.000 linalg.py:140(isComplexType)\n",
       "        2    0.000    0.000    0.000    0.000 einsumfunc.py:1009(einsum)\n",
       "        1    0.000    0.000    0.000    0.000 fromnumeric.py:72(<dictcomp>)\n",
       "        1    0.000    0.000    0.000    0.000 {method 'ravel' of 'numpy.ndarray' objects}\n",
       "        1    0.000    0.000    0.000    0.000 waveform.py:484(m_arr)\n",
       "        1    0.000    0.000    0.000    0.000 {method 'reshape' of 'numpy.ndarray' objects}\n",
       "        7    0.000    0.000    0.000    0.000 {built-in method numpy.asarray}\n",
       "        1    0.000    0.000    0.000    0.000 waveform.py:699(<listcomp>)\n",
       "       10    0.000    0.000    0.000    0.000 einsumfunc.py:1001(_einsum_dispatcher)\n",
       "        1    0.000    0.000    0.000    0.000 waveform.py:433(approximant)\n",
       "        2    0.000    0.000    0.000    0.000 {built-in method builtins.issubclass}\n",
       "        1    0.000    0.000    0.000    0.000 {built-in method builtins.isinstance}\n",
       "        2    0.000    0.000    0.000    0.000 numeric.py:2374(_array_equal_dispatcher)\n",
       "        1    0.000    0.000    0.000    0.000 fromnumeric.py:2172(_sum_dispatcher)\n",
       "        1    0.000    0.000    0.000    0.000 waveform.py:505(lalsimulation_commands)\n",
       "        1    0.000    0.000    0.000    0.000 linalg.py:2379(_norm_dispatcher)\n",
       "        1    0.000    0.000    0.000    0.000 {method 'disable' of '_lsprof.Profiler' objects}\n",
       "        1    0.000    0.000    0.000    0.000 {method 'items' of 'dict' objects}\n",
       "        1    0.000    0.000    0.000    0.000 {built-in method builtins.len}"
      ]
     },
     "metadata": {},
     "output_type": "display_data"
    }
   ],
   "source": [
    "%%prun\n",
    "strain_2 = wg.get_strain_at_detectors(f[mask], params_dic, vary_polarization = True, doppler = True, use_cached=True)"
   ]
  },
  {
   "cell_type": "code",
   "execution_count": 14,
   "id": "6dbe407e-13d2-47c7-bb9b-d6be8f687ddc",
   "metadata": {
    "scrolled": true
   },
   "outputs": [
    {
     "name": "stdout",
     "output_type": "stream",
     "text": [
      " "
     ]
    },
    {
     "data": {
      "text/plain": [
       "         264601 function calls in 0.449 seconds\n",
       "\n",
       "   Ordered by: internal time\n",
       "\n",
       "   ncalls  tottime  percall  cumtime  percall filename:lineno(function)\n",
       "       10    0.090    0.009    0.090    0.009 {method 'reduce' of 'numpy.ufunc' objects}\n",
       "        2    0.062    0.031    0.062    0.031 {built-in method lalsimulation._lalsimulation.SimInspiralChooseFDWaveformSequence}\n",
       "     9062    0.045    0.000    0.068    0.000 _interpolate.py:690(_call_linear)\n",
       "        2    0.037    0.018    0.109    0.054 waveform.py:34(compute_hplus_hcross)\n",
       "        1    0.031    0.031    0.445    0.445 waveform.py:813(time_series)\n",
       "        2    0.021    0.011    0.035    0.018 function_base.py:1663(unwrap)\n",
       "        2    0.019    0.009    0.019    0.009 function_base.py:1606(angle)\n",
       "        2    0.015    0.007    0.015    0.007 {built-in method numpy.arange}\n",
       "        2    0.009    0.005    0.009    0.005 {method 'cumsum' of 'numpy.ndarray' objects}\n",
       "     9062    0.009    0.000    0.021    0.000 _util.py:275(_asarray_validated)\n",
       "     9062    0.009    0.000    0.009    0.000 _methods.py:90(_clip)\n",
       "       13    0.008    0.001    0.008    0.001 {built-in method numpy.array}\n",
       "        3    0.008    0.003    0.216    0.072 waveform.py:676(get_hplus_hcross)\n",
       "        2    0.007    0.004    0.007    0.004 shape_base.py:372(stack)\n",
       "        4    0.006    0.001    0.006    0.001 function_base.py:972(gradient)\n",
       "        2    0.005    0.003    0.005    0.003 {method 'take' of 'numpy.ndarray' objects}\n",
       "     9322    0.005    0.000    0.005    0.000 {method 'searchsorted' of 'numpy.ndarray' objects}\n",
       "        2    0.005    0.002    0.005    0.002 waveform.py:278(extract_monotonic_increasing_segment)\n",
       "        2    0.004    0.002    0.113    0.056 waveform.py:148(<dictcomp>)\n",
       "     9062    0.004    0.000    0.072    0.000 _interpolate.py:759(_evaluate)\n",
       "     9062    0.003    0.000    0.103    0.000 _polyint.py:59(__call__)\n",
       "     9072    0.003    0.000    0.008    0.000 numerictypes.py:357(issubdtype)\n",
       "        2    0.003    0.002    0.003    0.002 {method 'argsort' of 'numpy.ndarray' objects}\n",
       "    18144    0.003    0.000    0.004    0.000 numerictypes.py:283(issubclass_)\n",
       "        2    0.003    0.001    0.014    0.007 _interpolate.py:496(__init__)\n",
       "     9062    0.003    0.000    0.024    0.000 _polyint.py:90(_prepare_x)\n",
       "     9062    0.002    0.000    0.002    0.000 {method 'astype' of 'numpy.ndarray' objects}\n",
       "     9322    0.002    0.000    0.010    0.000 fromnumeric.py:1332(searchsorted)\n",
       "     9326    0.002    0.000    0.016    0.000 fromnumeric.py:53(_wrapfunc)\n",
       "    18147    0.002    0.000    0.002    0.000 {built-in method numpy.asarray}\n",
       "        2    0.002    0.001    0.002    0.001 {built-in method builtins.abs}\n",
       "        2    0.002    0.001    0.062    0.031 waveform.py:256(generate_time_frequency_mapping)\n",
       "     9062    0.002    0.000    0.003    0.000 _polyint.py:96(_finish_y)\n",
       "    27228    0.002    0.000    0.002    0.000 {built-in method builtins.issubclass}\n",
       "        3    0.002    0.001    0.002    0.001 function_base.py:1324(diff)\n",
       "     9062    0.002    0.000    0.010    0.000 {method 'clip' of 'numpy.ndarray' objects}\n",
       "     9067    0.001    0.000    0.001    0.000 {method 'reshape' of 'numpy.ndarray' objects}\n",
       "        1    0.001    0.001    0.448    0.448 waveform.py:527(get_strain_at_detectors)\n",
       "    18136    0.001    0.000    0.001    0.000 {built-in method builtins.isinstance}\n",
       "     9062    0.001    0.000    0.001    0.000 _base.py:1513(issparse)\n",
       "     9062    0.001    0.000    0.001    0.000 core.py:6485(isMaskedArray)\n",
       "     9065    0.001    0.000    0.001    0.000 {method 'ravel' of 'numpy.ndarray' objects}\n",
       "     9322    0.001    0.000    0.001    0.000 fromnumeric.py:1328(_searchsorted_dispatcher)\n",
       "        2    0.001    0.000    0.001    0.000 {built-in method numpy.core._multiarray_umath.c_einsum}\n",
       "        2    0.001    0.000    0.054    0.027 waveform.py:235(get_phase_from_frequency_domain_waveform)\n",
       "     9328    0.001    0.000    0.001    0.000 {built-in method builtins.getattr}\n",
       "        2    0.001    0.000    0.001    0.000 {built-in method lal._lal.CreateDict}\n",
       "     9096    0.000    0.000    0.000    0.000 {built-in method builtins.len}\n",
       "        2    0.000    0.000    0.081    0.040 waveform.py:348(generate_interpolation_function)\n",
       "        2    0.000    0.000    0.000    0.000 {built-in method lalsimulation._lalsimulation.SimInspiralWaveformParamsInsertTidalLambda1}\n",
       "        2    0.000    0.000    0.000    0.000 {built-in method lalsimulation._lalsimulation.SimInspiralWaveformParamsInsertModeArray}\n",
       "        2    0.000    0.000    0.000    0.000 {built-in method lalsimulation._lalsimulation.GetApproximantFromString}\n",
       "        1    0.000    0.000    0.448    0.448 <string>:1(<module>)\n",
       "        2    0.000    0.000    0.000    0.000 {built-in method lal._lal.CreateREAL8Sequence}\n",
       "        2    0.000    0.000    0.000    0.000 {built-in method lalsimulation._lalsimulation.SimInspiralWaveformParamsInsertTidalLambda2}\n",
       "        4    0.000    0.000    0.000    0.000 numeric.py:2378(array_equal)\n",
       "        2    0.000    0.000    0.000    0.000 {built-in method lalsimulation._lalsimulation.SimInspiralCreateModeArray}\n",
       "        2    0.000    0.000    0.000    0.000 {built-in method lalsimulation._lalsimulation.SimInspiralModeArrayActivateMode}\n",
       "        1    0.000    0.000    0.015    0.015 waveform.py:772(get_f_finer)\n",
       "        3    0.000    0.000    0.000    0.000 waveform.py:755(_matching_cache)\n",
       "        1    0.000    0.000    0.449    0.449 {built-in method builtins.exec}\n",
       "        3    0.000    0.000    0.000    0.000 linalg.py:2383(norm)\n",
       "        7    0.000    0.000    0.090    0.013 fromnumeric.py:71(_wrapreduction)\n",
       "        5    0.000    0.000    0.000    0.000 {method 'dot' of 'numpy.ndarray' objects}\n",
       "        1    0.000    0.000    0.002    0.002 waveform.py:605(get_hplus_hcross_at_detectors)\n",
       "        5    0.000    0.000    0.090    0.018 fromnumeric.py:2177(sum)\n",
       "        2    0.000    0.000    0.000    0.000 waveform.py:168(inplane_spins_xy_n_to_xy)\n",
       "        1    0.000    0.000    0.000    0.000 _methods.py:101(_mean)\n",
       "        2    0.000    0.000    0.000    0.000 numeric.py:1393(moveaxis)\n",
       "        3    0.000    0.000    0.000    0.000 {built-in method numpy.fromiter}\n",
       "        1    0.000    0.000    0.000    0.000 _methods.py:67(_count_reduce_items)\n",
       "        2    0.000    0.000    0.073    0.037 waveform.py:724(<listcomp>)\n",
       "        2    0.000    0.000    0.001    0.000 waveform.py:748(create_lal_dict)\n",
       "        4    0.000    0.000    0.000    0.000 numeric.py:1330(normalize_axis_tuple)\n",
       "        7    0.000    0.000    0.000    0.000 fromnumeric.py:72(<dictcomp>)\n",
       "        1    0.000    0.000    0.000    0.000 numeric.py:67(zeros_like)\n",
       "        1    0.000    0.000    0.000    0.000 fromnumeric.py:3385(mean)\n",
       "        3    0.000    0.000    0.000    0.000 waveform.py:699(<listcomp>)\n",
       "        1    0.000    0.000    0.000    0.000 waveform.py:624(<dictcomp>)\n",
       "        2    0.000    0.000    0.000    0.000 {method 'all' of 'numpy.ndarray' objects}\n",
       "        2    0.000    0.000    0.000    0.000 _methods.py:61(_all)\n",
       "        3    0.000    0.000    0.000    0.000 waveform.py:484(m_arr)\n",
       "        2    0.000    0.000    0.001    0.000 einsumfunc.py:1009(einsum)\n",
       "        2    0.000    0.000    0.113    0.056 waveform.py:117(compute_hplus_hcross_by_mode)\n",
       "        2    0.000    0.000    0.000    0.000 _polyint.py:115(_set_yi)\n",
       "        1    0.000    0.000    0.000    0.000 fromnumeric.py:2836(min)\n",
       "        2    0.000    0.000    0.000    0.000 _polyint.py:107(_reshape_yi)\n",
       "        2    0.000    0.000    0.000    0.000 _polyint.py:52(__init__)\n",
       "        3    0.000    0.000    0.000    0.000 {built-in method builtins.hasattr}\n",
       "       10    0.000    0.000    0.000    0.000 {built-in method numpy.core._multiarray_umath.normalize_axis_index}\n",
       "        4    0.000    0.000    0.000    0.000 fromnumeric.py:3176(ndim)\n",
       "        2    0.000    0.000    0.000    0.000 waveform.py:106(<listcomp>)\n",
       "        1    0.000    0.000    0.000    0.000 fromnumeric.py:2692(max)\n",
       "        2    0.000    0.000    0.000    0.000 shape_base.py:447(<setcomp>)\n",
       "       14    0.000    0.000    0.000    0.000 {built-in method numpy.asanyarray}\n",
       "        9    0.000    0.000    0.000    0.000 waveform.py:433(approximant)\n",
       "        2    0.000    0.000    0.000    0.000 shape_base.py:455(<listcomp>)\n",
       "        2    0.000    0.000    0.000    0.000 _polyint.py:135(_set_dtype)\n",
       "       10    0.000    0.000    0.000    0.000 einsumfunc.py:1001(_einsum_dispatcher)\n",
       "        2    0.000    0.000    0.000    0.000 {built-in method builtins.sorted}\n",
       "        2    0.000    0.000    0.000    0.000 shape_base.py:207(_arrays_for_stack_dispatcher)\n",
       "        2    0.000    0.000    0.000    0.000 shape_base.py:362(_stack_dispatcher)\n",
       "        8    0.000    0.000    0.000    0.000 function_base.py:967(_gradient_dispatcher)\n",
       "        5    0.000    0.000    0.000    0.000 waveform.py:505(lalsimulation_commands)\n",
       "        3    0.000    0.000    0.000    0.000 linalg.py:140(isComplexType)\n",
       "        7    0.000    0.000    0.000    0.000 {method 'items' of 'dict' objects}\n",
       "        2    0.000    0.000    0.005    0.003 fromnumeric.py:95(take)\n",
       "        2    0.000    0.000    0.000    0.000 {method 'transpose' of 'numpy.ndarray' objects}\n",
       "        5    0.000    0.000    0.000    0.000 fromnumeric.py:2172(_sum_dispatcher)\n",
       "        2    0.000    0.000    0.000    0.000 {method 'pop' of 'list' objects}\n",
       "        2    0.000    0.000    0.000    0.000 _interpolate.py:649(fill_value)\n",
       "        5    0.000    0.000    0.000    0.000 multiarray.py:1080(copyto)\n",
       "        9    0.000    0.000    0.000    0.000 {method 'append' of 'list' objects}\n",
       "        2    0.000    0.000    0.003    0.002 fromnumeric.py:1025(argsort)\n",
       "        2    0.000    0.000    0.000    0.000 waveform.py:458(harmonic_modes)\n",
       "        4    0.000    0.000    0.000    0.000 numeric.py:1380(<listcomp>)\n",
       "        4    0.000    0.000    0.000    0.000 numeric.py:2374(_array_equal_dispatcher)\n",
       "        2    0.000    0.000    0.000    0.000 shape_base.py:443(<listcomp>)\n",
       "        3    0.000    0.000    0.000    0.000 function_base.py:1320(_diff_dispatcher)\n",
       "        4    0.000    0.000    0.000    0.000 _interpolate.py:381(_do_extrapolate)\n",
       "        2    0.000    0.000    0.000    0.000 {method 'values' of 'dict' objects}\n",
       "        2    0.000    0.000    0.000    0.000 _interpolate.py:680(_check_and_update_bounds_error_for_extrapolation)\n",
       "        1    0.000    0.000    0.000    0.000 fromnumeric.py:2831(_min_dispatcher)\n",
       "        3    0.000    0.000    0.000    0.000 linalg.py:2379(_norm_dispatcher)\n",
       "        2    0.000    0.000    0.000    0.000 {method 'insert' of 'list' objects}\n",
       "        1    0.000    0.000    0.000    0.000 fromnumeric.py:3380(_mean_dispatcher)\n",
       "        1    0.000    0.000    0.000    0.000 fromnumeric.py:2687(_max_dispatcher)\n",
       "        5    0.000    0.000    0.000    0.000 multiarray.py:85(empty_like)\n",
       "        1    0.000    0.000    0.000    0.000 {built-in method numpy.zeros}\n",
       "        2    0.000    0.000    0.000    0.000 fromnumeric.py:1021(_argsort_dispatcher)\n",
       "        4    0.000    0.000    0.000    0.000 fromnumeric.py:3172(_ndim_dispatcher)\n",
       "        2    0.000    0.000    0.000    0.000 multiarray.py:153(concatenate)\n",
       "        2    0.000    0.000    0.000    0.000 function_base.py:1602(_angle_dispatcher)\n",
       "        2    0.000    0.000    0.000    0.000 multiarray.py:669(result_type)\n",
       "        4    0.000    0.000    0.000    0.000 {built-in method _operator.index}\n",
       "        2    0.000    0.000    0.000    0.000 numeric.py:1455(<listcomp>)\n",
       "        1    0.000    0.000    0.000    0.000 {method 'disable' of '_lsprof.Profiler' objects}\n",
       "        2    0.000    0.000    0.000    0.000 function_base.py:1659(_unwrap_dispatcher)\n",
       "        2    0.000    0.000    0.000    0.000 numeric.py:1389(_moveaxis_dispatcher)\n",
       "        1    0.000    0.000    0.000    0.000 numeric.py:63(_zeros_like_dispatcher)\n",
       "        2    0.000    0.000    0.000    0.000 fromnumeric.py:91(_take_dispatcher)"
      ]
     },
     "metadata": {},
     "output_type": "display_data"
    }
   ],
   "source": [
    "%%prun\n",
    "strain_3 = wg.get_strain_at_detectors(f[mask], params_dic, vary_polarization = False, doppler = True, use_cached=False)"
   ]
  },
  {
   "cell_type": "code",
   "execution_count": 10,
   "id": "b581d581-c438-450f-bb12-809e8454fbe8",
   "metadata": {
    "editable": true,
    "scrolled": true,
    "slideshow": {
     "slide_type": ""
    },
    "tags": []
   },
   "outputs": [],
   "source": [
    "# mask1 = np.logical_and(frequencies >= 2, frequencies <= 31)\n",
    "# plt.figure(figsize=(10, 6))\n",
    "# plt.plot(f[mask], abs(strain_1[0]), label='vp_cogwheel', color='blue', linestyle='-', linewidth=1.5)\n",
    "# plt.plot(frequencies[mask1], abs(projected_strain_pycbc_vp_fd[mask1]), label='vp_pycbc', color='orange', linestyle='--', linewidth=1.5)\n",
    "# #plt.plot(frequencies, abs(projected_strain_pycbc_const_fd), label='const_pycbc', color='cyan', linestyle=':', linewidth=1.5)\n",
    "# #plt.plot(f, abs(strain_0[0]), label='const_cogwheel', color='magenta', linestyle='dotted', linewidth=1.5)\n",
    "\n",
    "\n",
    "# plt.xlabel('Frequency (Hz)', fontsize=14)\n",
    "# plt.ylabel('Strain Amplitude', fontsize=14)\n",
    "# plt.title('Comparison of Strain at Detectors', fontsize=16)\n",
    "\n",
    "# plt.grid(True, which='both', linestyle='--', linewidth=0.5)\n",
    "# plt.legend()\n",
    "# plt.savefig('Strain_Signal_Comparison.pdf')\n",
    "# plt.show()\n",
    "hp_time_windowed.start_time += geocent_time\n",
    "hc_time_windowed.start_time += geocent_time\n"
   ]
  },
  {
   "cell_type": "code",
   "execution_count": 11,
   "id": "1becd4ef-fe20-41ad-b257-1cd673c98d99",
   "metadata": {
    "scrolled": true
   },
   "outputs": [],
   "source": [
    "\n",
    "\n",
    "projected_strain_pycbc_lal = detector.project_wave(\n",
    "    hp_time_windowed, hc_time_windowed, ra, dec, polarization, method='lal')\n",
    "\n",
    "projected_strain_pycbc_lal_fd = projected_strain_pycbc_lal.to_frequencyseries()\n",
    "\n",
    "freq_lal = projected_strain_pycbc_lal_fd.get_sample_frequencies()"
   ]
  },
  {
   "cell_type": "code",
   "execution_count": null,
   "id": "c3635f5e-994a-4867-b537-fb813af57690",
   "metadata": {},
   "outputs": [],
   "source": []
  },
  {
   "cell_type": "code",
   "execution_count": 12,
   "id": "fb8a7f39-083c-4bfc-8fb4-47bacf23d9d7",
   "metadata": {},
   "outputs": [
    {
     "data": {
      "text/plain": [
       "<matplotlib.legend.Legend at 0x17c9263a0>"
      ]
     },
     "execution_count": 12,
     "metadata": {},
     "output_type": "execute_result"
    },
    {
     "data": {
      "image/png": "[encoded data removed]",
      "text/plain": [
       "<Figure size 1000x600 with 1 Axes>"
      ]
     },
     "metadata": {},
     "output_type": "display_data"
    }
   ],
   "source": [
    "mask1 = np.logical_and(frequencies >= 2, frequencies <= 31)\n",
    "mask2 = np.logical_and(freq_lal >= 2, freq_lal <= 31)\n",
    "\n",
    "plt.figure(figsize=(10, 6))\n",
    "plt.plot(f[mask], abs(strain_1[0]), label='vp_cogwheel', color='blue', linestyle='-', linewidth=1.5)\n",
    "plt.plot(f[mask], abs(strain_2[0]), label='vp+dp_cogwheel', color='red', linestyle='-.', linewidth=1.5)\n",
    "plt.plot(frequencies[mask1], abs(projected_strain_pycbc_vp_fd[mask1]), label='vp_pycbc', color='orange', linestyle='--', linewidth=1.5)\n",
    "plt.plot(freq_lal[mask2], np.abs(projected_strain_pycbc_lal_fd[mask2]), label = 'lal', color = 'magenta', linestyle = 'dotted', linewidth = 1.5)\n",
    "plt.legend()"
   ]
  },
  {
   "cell_type": "code",
   "execution_count": null,
   "id": "ad1f1e4a-a7c9-473e-8c0b-fb01867ae232",
   "metadata": {},
   "outputs": [],
   "source": []
  },
  {
   "cell_type": "code",
   "execution_count": null,
   "id": "c01be204-232a-48f8-b85d-28934e567f8f",
   "metadata": {},
   "outputs": [],
   "source": []
  },
  {
   "cell_type": "code",
   "execution_count": null,
   "id": "a6df0247-9401-4341-b2c0-2b973a20a5eb",
   "metadata": {},
   "outputs": [],
   "source": []
  },
  {
   "cell_type": "code",
   "execution_count": null,
   "id": "ad88e467-5eb5-43d2-bd67-1f9f24c830f6",
   "metadata": {},
   "outputs": [],
   "source": []
  },
  {
   "cell_type": "code",
   "execution_count": null,
   "id": "c1020f39-5a14-49bc-a3d5-3816c49580cf",
   "metadata": {},
   "outputs": [],
   "source": []
  },
  {
   "cell_type": "code",
   "execution_count": null,
   "id": "8fd6f5e8-bac8-4dea-90a1-4054dc47dd49",
   "metadata": {},
   "outputs": [],
   "source": []
  },
  {
   "cell_type": "code",
   "execution_count": null,
   "id": "7e356057-51e5-40c0-a211-5d81b1d879a5",
   "metadata": {},
   "outputs": [],
   "source": []
  },
  {
   "cell_type": "code",
   "execution_count": null,
   "id": "7d8e281c-e5a6-4111-934b-c837a2d2c248",
   "metadata": {},
   "outputs": [],
   "source": []
  }
 ],
 "metadata": {
  "kernelspec": {
   "display_name": "Python 3 (ipykernel)",
   "language": "python",
   "name": "python3"
  },
  "language_info": {
   "codemirror_mode": {
    "name": "ipython",
    "version": 3
   },
   "file_extension": ".py",
   "mimetype": "text/x-python",
   "name": "python",
   "nbconvert_exporter": "python",
   "pygments_lexer": "ipython3",
   "version": "3.9.20"
  }
 },
 "nbformat": 4,
 "nbformat_minor": 5
}
